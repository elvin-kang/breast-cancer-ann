{
  "nbformat": 4,
  "nbformat_minor": 0,
  "metadata": {
    "colab": {
      "name": "Breast Cancer ANN Example.ipynb",
      "provenance": []
    },
    "kernelspec": {
      "name": "python3",
      "display_name": "Python 3"
    },
    "language_info": {
      "name": "python"
    },
    "accelerator": "GPU",
    "gpuClass": "standard"
  },
  "cells": [
    {
      "cell_type": "code",
      "execution_count": 1,
      "metadata": {
        "id": "hOJBno9qpp6S"
      },
      "outputs": [],
      "source": [
        "import pandas as pd\n",
        "import numpy as np\n",
        "import matplotlib.pyplot as plt\n",
        "import seaborn as sns"
      ]
    },
    {
      "cell_type": "markdown",
      "source": [
        "# Read Data"
      ],
      "metadata": {
        "id": "4C-sSLJar7mi"
      }
    },
    {
      "cell_type": "code",
      "source": [
        "data = pd.read_csv('data.csv')\n",
        "del data['Unnamed: 32']"
      ],
      "metadata": {
        "id": "L9vLXfirp6gY"
      },
      "execution_count": 2,
      "outputs": []
    },
    {
      "cell_type": "code",
      "source": [
        "data.head(5)"
      ],
      "metadata": {
        "colab": {
          "base_uri": "https://localhost:8080/",
          "height": 317
        },
        "id": "YXxK31Znqt09",
        "outputId": "ed2e9f84-43ae-47fb-b5b9-d8bb79ad866a"
      },
      "execution_count": 3,
      "outputs": [
        {
          "output_type": "execute_result",
          "data": {
            "text/plain": [
              "         id diagnosis  radius_mean  texture_mean  perimeter_mean  area_mean  \\\n",
              "0    842302         M        17.99         10.38          122.80     1001.0   \n",
              "1    842517         M        20.57         17.77          132.90     1326.0   \n",
              "2  84300903         M        19.69         21.25          130.00     1203.0   \n",
              "3  84348301         M        11.42         20.38           77.58      386.1   \n",
              "4  84358402         M        20.29         14.34          135.10     1297.0   \n",
              "\n",
              "   smoothness_mean  compactness_mean  concavity_mean  concave points_mean  \\\n",
              "0          0.11840           0.27760          0.3001              0.14710   \n",
              "1          0.08474           0.07864          0.0869              0.07017   \n",
              "2          0.10960           0.15990          0.1974              0.12790   \n",
              "3          0.14250           0.28390          0.2414              0.10520   \n",
              "4          0.10030           0.13280          0.1980              0.10430   \n",
              "\n",
              "   ...  radius_worst  texture_worst  perimeter_worst  area_worst  \\\n",
              "0  ...         25.38          17.33           184.60      2019.0   \n",
              "1  ...         24.99          23.41           158.80      1956.0   \n",
              "2  ...         23.57          25.53           152.50      1709.0   \n",
              "3  ...         14.91          26.50            98.87       567.7   \n",
              "4  ...         22.54          16.67           152.20      1575.0   \n",
              "\n",
              "   smoothness_worst  compactness_worst  concavity_worst  concave points_worst  \\\n",
              "0            0.1622             0.6656           0.7119                0.2654   \n",
              "1            0.1238             0.1866           0.2416                0.1860   \n",
              "2            0.1444             0.4245           0.4504                0.2430   \n",
              "3            0.2098             0.8663           0.6869                0.2575   \n",
              "4            0.1374             0.2050           0.4000                0.1625   \n",
              "\n",
              "   symmetry_worst  fractal_dimension_worst  \n",
              "0          0.4601                  0.11890  \n",
              "1          0.2750                  0.08902  \n",
              "2          0.3613                  0.08758  \n",
              "3          0.6638                  0.17300  \n",
              "4          0.2364                  0.07678  \n",
              "\n",
              "[5 rows x 32 columns]"
            ],
            "text/html": [
              "\n",
              "  <div id=\"df-c3bffb58-efb6-4dd9-89e8-162b702e0a16\">\n",
              "    <div class=\"colab-df-container\">\n",
              "      <div>\n",
              "<style scoped>\n",
              "    .dataframe tbody tr th:only-of-type {\n",
              "        vertical-align: middle;\n",
              "    }\n",
              "\n",
              "    .dataframe tbody tr th {\n",
              "        vertical-align: top;\n",
              "    }\n",
              "\n",
              "    .dataframe thead th {\n",
              "        text-align: right;\n",
              "    }\n",
              "</style>\n",
              "<table border=\"1\" class=\"dataframe\">\n",
              "  <thead>\n",
              "    <tr style=\"text-align: right;\">\n",
              "      <th></th>\n",
              "      <th>id</th>\n",
              "      <th>diagnosis</th>\n",
              "      <th>radius_mean</th>\n",
              "      <th>texture_mean</th>\n",
              "      <th>perimeter_mean</th>\n",
              "      <th>area_mean</th>\n",
              "      <th>smoothness_mean</th>\n",
              "      <th>compactness_mean</th>\n",
              "      <th>concavity_mean</th>\n",
              "      <th>concave points_mean</th>\n",
              "      <th>...</th>\n",
              "      <th>radius_worst</th>\n",
              "      <th>texture_worst</th>\n",
              "      <th>perimeter_worst</th>\n",
              "      <th>area_worst</th>\n",
              "      <th>smoothness_worst</th>\n",
              "      <th>compactness_worst</th>\n",
              "      <th>concavity_worst</th>\n",
              "      <th>concave points_worst</th>\n",
              "      <th>symmetry_worst</th>\n",
              "      <th>fractal_dimension_worst</th>\n",
              "    </tr>\n",
              "  </thead>\n",
              "  <tbody>\n",
              "    <tr>\n",
              "      <th>0</th>\n",
              "      <td>842302</td>\n",
              "      <td>M</td>\n",
              "      <td>17.99</td>\n",
              "      <td>10.38</td>\n",
              "      <td>122.80</td>\n",
              "      <td>1001.0</td>\n",
              "      <td>0.11840</td>\n",
              "      <td>0.27760</td>\n",
              "      <td>0.3001</td>\n",
              "      <td>0.14710</td>\n",
              "      <td>...</td>\n",
              "      <td>25.38</td>\n",
              "      <td>17.33</td>\n",
              "      <td>184.60</td>\n",
              "      <td>2019.0</td>\n",
              "      <td>0.1622</td>\n",
              "      <td>0.6656</td>\n",
              "      <td>0.7119</td>\n",
              "      <td>0.2654</td>\n",
              "      <td>0.4601</td>\n",
              "      <td>0.11890</td>\n",
              "    </tr>\n",
              "    <tr>\n",
              "      <th>1</th>\n",
              "      <td>842517</td>\n",
              "      <td>M</td>\n",
              "      <td>20.57</td>\n",
              "      <td>17.77</td>\n",
              "      <td>132.90</td>\n",
              "      <td>1326.0</td>\n",
              "      <td>0.08474</td>\n",
              "      <td>0.07864</td>\n",
              "      <td>0.0869</td>\n",
              "      <td>0.07017</td>\n",
              "      <td>...</td>\n",
              "      <td>24.99</td>\n",
              "      <td>23.41</td>\n",
              "      <td>158.80</td>\n",
              "      <td>1956.0</td>\n",
              "      <td>0.1238</td>\n",
              "      <td>0.1866</td>\n",
              "      <td>0.2416</td>\n",
              "      <td>0.1860</td>\n",
              "      <td>0.2750</td>\n",
              "      <td>0.08902</td>\n",
              "    </tr>\n",
              "    <tr>\n",
              "      <th>2</th>\n",
              "      <td>84300903</td>\n",
              "      <td>M</td>\n",
              "      <td>19.69</td>\n",
              "      <td>21.25</td>\n",
              "      <td>130.00</td>\n",
              "      <td>1203.0</td>\n",
              "      <td>0.10960</td>\n",
              "      <td>0.15990</td>\n",
              "      <td>0.1974</td>\n",
              "      <td>0.12790</td>\n",
              "      <td>...</td>\n",
              "      <td>23.57</td>\n",
              "      <td>25.53</td>\n",
              "      <td>152.50</td>\n",
              "      <td>1709.0</td>\n",
              "      <td>0.1444</td>\n",
              "      <td>0.4245</td>\n",
              "      <td>0.4504</td>\n",
              "      <td>0.2430</td>\n",
              "      <td>0.3613</td>\n",
              "      <td>0.08758</td>\n",
              "    </tr>\n",
              "    <tr>\n",
              "      <th>3</th>\n",
              "      <td>84348301</td>\n",
              "      <td>M</td>\n",
              "      <td>11.42</td>\n",
              "      <td>20.38</td>\n",
              "      <td>77.58</td>\n",
              "      <td>386.1</td>\n",
              "      <td>0.14250</td>\n",
              "      <td>0.28390</td>\n",
              "      <td>0.2414</td>\n",
              "      <td>0.10520</td>\n",
              "      <td>...</td>\n",
              "      <td>14.91</td>\n",
              "      <td>26.50</td>\n",
              "      <td>98.87</td>\n",
              "      <td>567.7</td>\n",
              "      <td>0.2098</td>\n",
              "      <td>0.8663</td>\n",
              "      <td>0.6869</td>\n",
              "      <td>0.2575</td>\n",
              "      <td>0.6638</td>\n",
              "      <td>0.17300</td>\n",
              "    </tr>\n",
              "    <tr>\n",
              "      <th>4</th>\n",
              "      <td>84358402</td>\n",
              "      <td>M</td>\n",
              "      <td>20.29</td>\n",
              "      <td>14.34</td>\n",
              "      <td>135.10</td>\n",
              "      <td>1297.0</td>\n",
              "      <td>0.10030</td>\n",
              "      <td>0.13280</td>\n",
              "      <td>0.1980</td>\n",
              "      <td>0.10430</td>\n",
              "      <td>...</td>\n",
              "      <td>22.54</td>\n",
              "      <td>16.67</td>\n",
              "      <td>152.20</td>\n",
              "      <td>1575.0</td>\n",
              "      <td>0.1374</td>\n",
              "      <td>0.2050</td>\n",
              "      <td>0.4000</td>\n",
              "      <td>0.1625</td>\n",
              "      <td>0.2364</td>\n",
              "      <td>0.07678</td>\n",
              "    </tr>\n",
              "  </tbody>\n",
              "</table>\n",
              "<p>5 rows × 32 columns</p>\n",
              "</div>\n",
              "      <button class=\"colab-df-convert\" onclick=\"convertToInteractive('df-c3bffb58-efb6-4dd9-89e8-162b702e0a16')\"\n",
              "              title=\"Convert this dataframe to an interactive table.\"\n",
              "              style=\"display:none;\">\n",
              "        \n",
              "  <svg xmlns=\"http://www.w3.org/2000/svg\" height=\"24px\"viewBox=\"0 0 24 24\"\n",
              "       width=\"24px\">\n",
              "    <path d=\"M0 0h24v24H0V0z\" fill=\"none\"/>\n",
              "    <path d=\"M18.56 5.44l.94 2.06.94-2.06 2.06-.94-2.06-.94-.94-2.06-.94 2.06-2.06.94zm-11 1L8.5 8.5l.94-2.06 2.06-.94-2.06-.94L8.5 2.5l-.94 2.06-2.06.94zm10 10l.94 2.06.94-2.06 2.06-.94-2.06-.94-.94-2.06-.94 2.06-2.06.94z\"/><path d=\"M17.41 7.96l-1.37-1.37c-.4-.4-.92-.59-1.43-.59-.52 0-1.04.2-1.43.59L10.3 9.45l-7.72 7.72c-.78.78-.78 2.05 0 2.83L4 21.41c.39.39.9.59 1.41.59.51 0 1.02-.2 1.41-.59l7.78-7.78 2.81-2.81c.8-.78.8-2.07 0-2.86zM5.41 20L4 18.59l7.72-7.72 1.47 1.35L5.41 20z\"/>\n",
              "  </svg>\n",
              "      </button>\n",
              "      \n",
              "  <style>\n",
              "    .colab-df-container {\n",
              "      display:flex;\n",
              "      flex-wrap:wrap;\n",
              "      gap: 12px;\n",
              "    }\n",
              "\n",
              "    .colab-df-convert {\n",
              "      background-color: #E8F0FE;\n",
              "      border: none;\n",
              "      border-radius: 50%;\n",
              "      cursor: pointer;\n",
              "      display: none;\n",
              "      fill: #1967D2;\n",
              "      height: 32px;\n",
              "      padding: 0 0 0 0;\n",
              "      width: 32px;\n",
              "    }\n",
              "\n",
              "    .colab-df-convert:hover {\n",
              "      background-color: #E2EBFA;\n",
              "      box-shadow: 0px 1px 2px rgba(60, 64, 67, 0.3), 0px 1px 3px 1px rgba(60, 64, 67, 0.15);\n",
              "      fill: #174EA6;\n",
              "    }\n",
              "\n",
              "    [theme=dark] .colab-df-convert {\n",
              "      background-color: #3B4455;\n",
              "      fill: #D2E3FC;\n",
              "    }\n",
              "\n",
              "    [theme=dark] .colab-df-convert:hover {\n",
              "      background-color: #434B5C;\n",
              "      box-shadow: 0px 1px 3px 1px rgba(0, 0, 0, 0.15);\n",
              "      filter: drop-shadow(0px 1px 2px rgba(0, 0, 0, 0.3));\n",
              "      fill: #FFFFFF;\n",
              "    }\n",
              "  </style>\n",
              "\n",
              "      <script>\n",
              "        const buttonEl =\n",
              "          document.querySelector('#df-c3bffb58-efb6-4dd9-89e8-162b702e0a16 button.colab-df-convert');\n",
              "        buttonEl.style.display =\n",
              "          google.colab.kernel.accessAllowed ? 'block' : 'none';\n",
              "\n",
              "        async function convertToInteractive(key) {\n",
              "          const element = document.querySelector('#df-c3bffb58-efb6-4dd9-89e8-162b702e0a16');\n",
              "          const dataTable =\n",
              "            await google.colab.kernel.invokeFunction('convertToInteractive',\n",
              "                                                     [key], {});\n",
              "          if (!dataTable) return;\n",
              "\n",
              "          const docLinkHtml = 'Like what you see? Visit the ' +\n",
              "            '<a target=\"_blank\" href=https://colab.research.google.com/notebooks/data_table.ipynb>data table notebook</a>'\n",
              "            + ' to learn more about interactive tables.';\n",
              "          element.innerHTML = '';\n",
              "          dataTable['output_type'] = 'display_data';\n",
              "          await google.colab.output.renderOutput(dataTable, element);\n",
              "          const docLink = document.createElement('div');\n",
              "          docLink.innerHTML = docLinkHtml;\n",
              "          element.appendChild(docLink);\n",
              "        }\n",
              "      </script>\n",
              "    </div>\n",
              "  </div>\n",
              "  "
            ]
          },
          "metadata": {},
          "execution_count": 3
        }
      ]
    },
    {
      "cell_type": "code",
      "source": [
        "X = data.iloc[:, 2:].values\n",
        "y = data.iloc[:, 1].values"
      ],
      "metadata": {
        "id": "WpvldT8bquJR"
      },
      "execution_count": 4,
      "outputs": []
    },
    {
      "cell_type": "code",
      "source": [
        "X.shape  # 569 data points, 30 columns"
      ],
      "metadata": {
        "colab": {
          "base_uri": "https://localhost:8080/"
        },
        "id": "yxzJU-bHrfgz",
        "outputId": "751e54d0-bea5-4b78-debd-f75bebca4d48"
      },
      "execution_count": 5,
      "outputs": [
        {
          "output_type": "execute_result",
          "data": {
            "text/plain": [
              "(569, 30)"
            ]
          },
          "metadata": {},
          "execution_count": 5
        }
      ]
    },
    {
      "cell_type": "code",
      "source": [
        "y.shape  # 569 targets for each X"
      ],
      "metadata": {
        "colab": {
          "base_uri": "https://localhost:8080/"
        },
        "id": "JMjz80atrfkA",
        "outputId": "18822e4c-669a-47f3-9af8-5e97b1851ccb"
      },
      "execution_count": 6,
      "outputs": [
        {
          "output_type": "execute_result",
          "data": {
            "text/plain": [
              "(569,)"
            ]
          },
          "metadata": {},
          "execution_count": 6
        }
      ]
    },
    {
      "cell_type": "markdown",
      "source": [
        "# Process Data"
      ],
      "metadata": {
        "id": "AIXVZ3D-sAiX"
      }
    },
    {
      "cell_type": "code",
      "source": [
        "from sklearn.preprocessing import LabelEncoder\n",
        "from sklearn.preprocessing import StandardScaler\n",
        "from sklearn.model_selection import train_test_split"
      ],
      "metadata": {
        "id": "dxYSgMTtq6qD"
      },
      "execution_count": 7,
      "outputs": []
    },
    {
      "cell_type": "markdown",
      "source": [
        "### Encode Categorical Data into binary"
      ],
      "metadata": {
        "id": "lBCQCrDNrz80"
      }
    },
    {
      "cell_type": "code",
      "source": [
        "labelencoder_X_1 = LabelEncoder()\n",
        "y = labelencoder_X_1.fit_transform(y)  # Map Malignant as 1, Benign as 0"
      ],
      "metadata": {
        "id": "Z5HMc6y5q7AD"
      },
      "execution_count": 8,
      "outputs": []
    },
    {
      "cell_type": "markdown",
      "source": [
        "### Split Dataset"
      ],
      "metadata": {
        "id": "_su7FT9jrvdZ"
      }
    },
    {
      "cell_type": "code",
      "source": [
        "X_train, X_test, y_train, y_test = train_test_split(X, y, test_size=0.1)"
      ],
      "metadata": {
        "id": "wfJWsQherMxk"
      },
      "execution_count": 9,
      "outputs": []
    },
    {
      "cell_type": "markdown",
      "source": [
        "### Data Feature Scaling"
      ],
      "metadata": {
        "id": "c-tsalFAsGw2"
      }
    },
    {
      "cell_type": "code",
      "source": [
        "sc = StandardScaler()\n",
        "X_train = sc.fit_transform(X_train)\n",
        "X_test = sc.transform(X_test)"
      ],
      "metadata": {
        "id": "tKOuqHKHrNAx"
      },
      "execution_count": 10,
      "outputs": []
    },
    {
      "cell_type": "markdown",
      "source": [
        "# Define model & Train"
      ],
      "metadata": {
        "id": "-5RFN8ewujoF"
      }
    },
    {
      "cell_type": "code",
      "source": [
        "import keras\n",
        "from keras.models import Sequential\n",
        "from keras.layers import Dense, Dropout"
      ],
      "metadata": {
        "id": "AviqcnJ6sUcT"
      },
      "execution_count": 11,
      "outputs": []
    },
    {
      "cell_type": "code",
      "source": [
        "model = Sequential()\n",
        "model.add(Dense(16, activation='relu', input_shape=(30,)))\n",
        "model.add(Dropout(0.1))\n",
        "model.add(Dense(32, activation='relu'))\n",
        "model.add(Dropout(0.1))\n",
        "model.add(Dense(1, activation='sigmoid'))"
      ],
      "metadata": {
        "id": "Hk0WCgwutEAE"
      },
      "execution_count": 12,
      "outputs": []
    },
    {
      "cell_type": "code",
      "source": [
        "model.compile(optimizer='adam', loss='binary_crossentropy', metrics=['accuracy'])"
      ],
      "metadata": {
        "id": "ciq2S_RGtUbY"
      },
      "execution_count": 13,
      "outputs": []
    },
    {
      "cell_type": "code",
      "source": [
        "model.fit(X_train, y_train, batch_size=100, epochs=150)"
      ],
      "metadata": {
        "colab": {
          "base_uri": "https://localhost:8080/"
        },
        "id": "0itV470ztxoZ",
        "outputId": "b7cd9e85-6b27-4264-ee12-69fda39ffd56"
      },
      "execution_count": 14,
      "outputs": [
        {
          "output_type": "stream",
          "name": "stdout",
          "text": [
            "Epoch 1/150\n",
            "6/6 [==============================] - 2s 8ms/step - loss: 0.6979 - accuracy: 0.5879\n",
            "Epoch 2/150\n",
            "6/6 [==============================] - 0s 9ms/step - loss: 0.6299 - accuracy: 0.6777\n",
            "Epoch 3/150\n",
            "6/6 [==============================] - 0s 9ms/step - loss: 0.5596 - accuracy: 0.7812\n",
            "Epoch 4/150\n",
            "6/6 [==============================] - 0s 4ms/step - loss: 0.5175 - accuracy: 0.7988\n",
            "Epoch 5/150\n",
            "6/6 [==============================] - 0s 4ms/step - loss: 0.4589 - accuracy: 0.8516\n",
            "Epoch 6/150\n",
            "6/6 [==============================] - 0s 4ms/step - loss: 0.4212 - accuracy: 0.8848\n",
            "Epoch 7/150\n",
            "6/6 [==============================] - 0s 4ms/step - loss: 0.3802 - accuracy: 0.8926\n",
            "Epoch 8/150\n",
            "6/6 [==============================] - 0s 5ms/step - loss: 0.3476 - accuracy: 0.9082\n",
            "Epoch 9/150\n",
            "6/6 [==============================] - 0s 4ms/step - loss: 0.3089 - accuracy: 0.9199\n",
            "Epoch 10/150\n",
            "6/6 [==============================] - 0s 4ms/step - loss: 0.2907 - accuracy: 0.9180\n",
            "Epoch 11/150\n",
            "6/6 [==============================] - 0s 5ms/step - loss: 0.2602 - accuracy: 0.9219\n",
            "Epoch 12/150\n",
            "6/6 [==============================] - 0s 5ms/step - loss: 0.2356 - accuracy: 0.9277\n",
            "Epoch 13/150\n",
            "6/6 [==============================] - 0s 5ms/step - loss: 0.2255 - accuracy: 0.9238\n",
            "Epoch 14/150\n",
            "6/6 [==============================] - 0s 5ms/step - loss: 0.2043 - accuracy: 0.9297\n",
            "Epoch 15/150\n",
            "6/6 [==============================] - 0s 5ms/step - loss: 0.1850 - accuracy: 0.9375\n",
            "Epoch 16/150\n",
            "6/6 [==============================] - 0s 6ms/step - loss: 0.1755 - accuracy: 0.9453\n",
            "Epoch 17/150\n",
            "6/6 [==============================] - 0s 5ms/step - loss: 0.1653 - accuracy: 0.9434\n",
            "Epoch 18/150\n",
            "6/6 [==============================] - 0s 8ms/step - loss: 0.1549 - accuracy: 0.9551\n",
            "Epoch 19/150\n",
            "6/6 [==============================] - 0s 5ms/step - loss: 0.1457 - accuracy: 0.9492\n",
            "Epoch 20/150\n",
            "6/6 [==============================] - 0s 6ms/step - loss: 0.1429 - accuracy: 0.9609\n",
            "Epoch 21/150\n",
            "6/6 [==============================] - 0s 4ms/step - loss: 0.1329 - accuracy: 0.9531\n",
            "Epoch 22/150\n",
            "6/6 [==============================] - 0s 6ms/step - loss: 0.1287 - accuracy: 0.9629\n",
            "Epoch 23/150\n",
            "6/6 [==============================] - 0s 6ms/step - loss: 0.1274 - accuracy: 0.9590\n",
            "Epoch 24/150\n",
            "6/6 [==============================] - 0s 5ms/step - loss: 0.1123 - accuracy: 0.9668\n",
            "Epoch 25/150\n",
            "6/6 [==============================] - 0s 8ms/step - loss: 0.1083 - accuracy: 0.9668\n",
            "Epoch 26/150\n",
            "6/6 [==============================] - 0s 5ms/step - loss: 0.1122 - accuracy: 0.9629\n",
            "Epoch 27/150\n",
            "6/6 [==============================] - 0s 5ms/step - loss: 0.1039 - accuracy: 0.9707\n",
            "Epoch 28/150\n",
            "6/6 [==============================] - 0s 5ms/step - loss: 0.1005 - accuracy: 0.9707\n",
            "Epoch 29/150\n",
            "6/6 [==============================] - 0s 5ms/step - loss: 0.0998 - accuracy: 0.9727\n",
            "Epoch 30/150\n",
            "6/6 [==============================] - 0s 5ms/step - loss: 0.0954 - accuracy: 0.9707\n",
            "Epoch 31/150\n",
            "6/6 [==============================] - 0s 5ms/step - loss: 0.0989 - accuracy: 0.9746\n",
            "Epoch 32/150\n",
            "6/6 [==============================] - 0s 5ms/step - loss: 0.0855 - accuracy: 0.9785\n",
            "Epoch 33/150\n",
            "6/6 [==============================] - 0s 5ms/step - loss: 0.0883 - accuracy: 0.9785\n",
            "Epoch 34/150\n",
            "6/6 [==============================] - 0s 5ms/step - loss: 0.0863 - accuracy: 0.9766\n",
            "Epoch 35/150\n",
            "6/6 [==============================] - 0s 8ms/step - loss: 0.0893 - accuracy: 0.9766\n",
            "Epoch 36/150\n",
            "6/6 [==============================] - 0s 6ms/step - loss: 0.0815 - accuracy: 0.9727\n",
            "Epoch 37/150\n",
            "6/6 [==============================] - 0s 5ms/step - loss: 0.0767 - accuracy: 0.9766\n",
            "Epoch 38/150\n",
            "6/6 [==============================] - 0s 6ms/step - loss: 0.0790 - accuracy: 0.9805\n",
            "Epoch 39/150\n",
            "6/6 [==============================] - 0s 5ms/step - loss: 0.0780 - accuracy: 0.9766\n",
            "Epoch 40/150\n",
            "6/6 [==============================] - 0s 5ms/step - loss: 0.0802 - accuracy: 0.9727\n",
            "Epoch 41/150\n",
            "6/6 [==============================] - 0s 5ms/step - loss: 0.0800 - accuracy: 0.9766\n",
            "Epoch 42/150\n",
            "6/6 [==============================] - 0s 5ms/step - loss: 0.0763 - accuracy: 0.9766\n",
            "Epoch 43/150\n",
            "6/6 [==============================] - 0s 5ms/step - loss: 0.0809 - accuracy: 0.9727\n",
            "Epoch 44/150\n",
            "6/6 [==============================] - 0s 5ms/step - loss: 0.0728 - accuracy: 0.9824\n",
            "Epoch 45/150\n",
            "6/6 [==============================] - 0s 5ms/step - loss: 0.0741 - accuracy: 0.9766\n",
            "Epoch 46/150\n",
            "6/6 [==============================] - 0s 5ms/step - loss: 0.0709 - accuracy: 0.9824\n",
            "Epoch 47/150\n",
            "6/6 [==============================] - 0s 5ms/step - loss: 0.0675 - accuracy: 0.9844\n",
            "Epoch 48/150\n",
            "6/6 [==============================] - 0s 7ms/step - loss: 0.0693 - accuracy: 0.9785\n",
            "Epoch 49/150\n",
            "6/6 [==============================] - 0s 5ms/step - loss: 0.0748 - accuracy: 0.9844\n",
            "Epoch 50/150\n",
            "6/6 [==============================] - 0s 5ms/step - loss: 0.0747 - accuracy: 0.9805\n",
            "Epoch 51/150\n",
            "6/6 [==============================] - 0s 5ms/step - loss: 0.0672 - accuracy: 0.9824\n",
            "Epoch 52/150\n",
            "6/6 [==============================] - 0s 5ms/step - loss: 0.0635 - accuracy: 0.9805\n",
            "Epoch 53/150\n",
            "6/6 [==============================] - 0s 5ms/step - loss: 0.0692 - accuracy: 0.9824\n",
            "Epoch 54/150\n",
            "6/6 [==============================] - 0s 5ms/step - loss: 0.0660 - accuracy: 0.9824\n",
            "Epoch 55/150\n",
            "6/6 [==============================] - 0s 6ms/step - loss: 0.0697 - accuracy: 0.9805\n",
            "Epoch 56/150\n",
            "6/6 [==============================] - 0s 5ms/step - loss: 0.0645 - accuracy: 0.9844\n",
            "Epoch 57/150\n",
            "6/6 [==============================] - 0s 5ms/step - loss: 0.0654 - accuracy: 0.9844\n",
            "Epoch 58/150\n",
            "6/6 [==============================] - 0s 5ms/step - loss: 0.0638 - accuracy: 0.9844\n",
            "Epoch 59/150\n",
            "6/6 [==============================] - 0s 5ms/step - loss: 0.0579 - accuracy: 0.9824\n",
            "Epoch 60/150\n",
            "6/6 [==============================] - 0s 5ms/step - loss: 0.0519 - accuracy: 0.9863\n",
            "Epoch 61/150\n",
            "6/6 [==============================] - 0s 5ms/step - loss: 0.0626 - accuracy: 0.9844\n",
            "Epoch 62/150\n",
            "6/6 [==============================] - 0s 5ms/step - loss: 0.0633 - accuracy: 0.9805\n",
            "Epoch 63/150\n",
            "6/6 [==============================] - 0s 4ms/step - loss: 0.0624 - accuracy: 0.9805\n",
            "Epoch 64/150\n",
            "6/6 [==============================] - 0s 7ms/step - loss: 0.0625 - accuracy: 0.9805\n",
            "Epoch 65/150\n",
            "6/6 [==============================] - 0s 7ms/step - loss: 0.0561 - accuracy: 0.9902\n",
            "Epoch 66/150\n",
            "6/6 [==============================] - 0s 5ms/step - loss: 0.0568 - accuracy: 0.9844\n",
            "Epoch 67/150\n",
            "6/6 [==============================] - 0s 4ms/step - loss: 0.0590 - accuracy: 0.9824\n",
            "Epoch 68/150\n",
            "6/6 [==============================] - 0s 4ms/step - loss: 0.0665 - accuracy: 0.9844\n",
            "Epoch 69/150\n",
            "6/6 [==============================] - 0s 5ms/step - loss: 0.0578 - accuracy: 0.9824\n",
            "Epoch 70/150\n",
            "6/6 [==============================] - 0s 5ms/step - loss: 0.0578 - accuracy: 0.9883\n",
            "Epoch 71/150\n",
            "6/6 [==============================] - 0s 5ms/step - loss: 0.0556 - accuracy: 0.9883\n",
            "Epoch 72/150\n",
            "6/6 [==============================] - 0s 7ms/step - loss: 0.0540 - accuracy: 0.9844\n",
            "Epoch 73/150\n",
            "6/6 [==============================] - 0s 5ms/step - loss: 0.0539 - accuracy: 0.9883\n",
            "Epoch 74/150\n",
            "6/6 [==============================] - 0s 5ms/step - loss: 0.0538 - accuracy: 0.9883\n",
            "Epoch 75/150\n",
            "6/6 [==============================] - 0s 5ms/step - loss: 0.0562 - accuracy: 0.9844\n",
            "Epoch 76/150\n",
            "6/6 [==============================] - 0s 14ms/step - loss: 0.0494 - accuracy: 0.9863\n",
            "Epoch 77/150\n",
            "6/6 [==============================] - 0s 8ms/step - loss: 0.0619 - accuracy: 0.9785\n",
            "Epoch 78/150\n",
            "6/6 [==============================] - 0s 11ms/step - loss: 0.0601 - accuracy: 0.9805\n",
            "Epoch 79/150\n",
            "6/6 [==============================] - 0s 6ms/step - loss: 0.0560 - accuracy: 0.9863\n",
            "Epoch 80/150\n",
            "6/6 [==============================] - 0s 8ms/step - loss: 0.0510 - accuracy: 0.9883\n",
            "Epoch 81/150\n",
            "6/6 [==============================] - 0s 4ms/step - loss: 0.0581 - accuracy: 0.9805\n",
            "Epoch 82/150\n",
            "6/6 [==============================] - 0s 7ms/step - loss: 0.0557 - accuracy: 0.9824\n",
            "Epoch 83/150\n",
            "6/6 [==============================] - 0s 5ms/step - loss: 0.0479 - accuracy: 0.9863\n",
            "Epoch 84/150\n",
            "6/6 [==============================] - 0s 5ms/step - loss: 0.0495 - accuracy: 0.9883\n",
            "Epoch 85/150\n",
            "6/6 [==============================] - 0s 5ms/step - loss: 0.0542 - accuracy: 0.9863\n",
            "Epoch 86/150\n",
            "6/6 [==============================] - 0s 5ms/step - loss: 0.0530 - accuracy: 0.9863\n",
            "Epoch 87/150\n",
            "6/6 [==============================] - 0s 5ms/step - loss: 0.0509 - accuracy: 0.9883\n",
            "Epoch 88/150\n",
            "6/6 [==============================] - 0s 5ms/step - loss: 0.0491 - accuracy: 0.9863\n",
            "Epoch 89/150\n",
            "6/6 [==============================] - 0s 5ms/step - loss: 0.0443 - accuracy: 0.9922\n",
            "Epoch 90/150\n",
            "6/6 [==============================] - 0s 5ms/step - loss: 0.0475 - accuracy: 0.9902\n",
            "Epoch 91/150\n",
            "6/6 [==============================] - 0s 5ms/step - loss: 0.0481 - accuracy: 0.9902\n",
            "Epoch 92/150\n",
            "6/6 [==============================] - 0s 5ms/step - loss: 0.0506 - accuracy: 0.9883\n",
            "Epoch 93/150\n",
            "6/6 [==============================] - 0s 5ms/step - loss: 0.0460 - accuracy: 0.9863\n",
            "Epoch 94/150\n",
            "6/6 [==============================] - 0s 6ms/step - loss: 0.0508 - accuracy: 0.9863\n",
            "Epoch 95/150\n",
            "6/6 [==============================] - 0s 8ms/step - loss: 0.0476 - accuracy: 0.9863\n",
            "Epoch 96/150\n",
            "6/6 [==============================] - 0s 7ms/step - loss: 0.0490 - accuracy: 0.9863\n",
            "Epoch 97/150\n",
            "6/6 [==============================] - 0s 5ms/step - loss: 0.0459 - accuracy: 0.9883\n",
            "Epoch 98/150\n",
            "6/6 [==============================] - 0s 6ms/step - loss: 0.0422 - accuracy: 0.9863\n",
            "Epoch 99/150\n",
            "6/6 [==============================] - 0s 6ms/step - loss: 0.0443 - accuracy: 0.9844\n",
            "Epoch 100/150\n",
            "6/6 [==============================] - 0s 5ms/step - loss: 0.0397 - accuracy: 0.9922\n",
            "Epoch 101/150\n",
            "6/6 [==============================] - 0s 5ms/step - loss: 0.0410 - accuracy: 0.9883\n",
            "Epoch 102/150\n",
            "6/6 [==============================] - 0s 7ms/step - loss: 0.0396 - accuracy: 0.9902\n",
            "Epoch 103/150\n",
            "6/6 [==============================] - 0s 6ms/step - loss: 0.0496 - accuracy: 0.9824\n",
            "Epoch 104/150\n",
            "6/6 [==============================] - 0s 8ms/step - loss: 0.0405 - accuracy: 0.9902\n",
            "Epoch 105/150\n",
            "6/6 [==============================] - 0s 7ms/step - loss: 0.0450 - accuracy: 0.9883\n",
            "Epoch 106/150\n",
            "6/6 [==============================] - 0s 7ms/step - loss: 0.0429 - accuracy: 0.9922\n",
            "Epoch 107/150\n",
            "6/6 [==============================] - 0s 6ms/step - loss: 0.0420 - accuracy: 0.9902\n",
            "Epoch 108/150\n",
            "6/6 [==============================] - 0s 7ms/step - loss: 0.0401 - accuracy: 0.9883\n",
            "Epoch 109/150\n",
            "6/6 [==============================] - 0s 6ms/step - loss: 0.0424 - accuracy: 0.9883\n",
            "Epoch 110/150\n",
            "6/6 [==============================] - 0s 9ms/step - loss: 0.0437 - accuracy: 0.9902\n",
            "Epoch 111/150\n",
            "6/6 [==============================] - 0s 8ms/step - loss: 0.0416 - accuracy: 0.9863\n",
            "Epoch 112/150\n",
            "6/6 [==============================] - 0s 6ms/step - loss: 0.0401 - accuracy: 0.9883\n",
            "Epoch 113/150\n",
            "6/6 [==============================] - 0s 5ms/step - loss: 0.0362 - accuracy: 0.9902\n",
            "Epoch 114/150\n",
            "6/6 [==============================] - 0s 8ms/step - loss: 0.0401 - accuracy: 0.9863\n",
            "Epoch 115/150\n",
            "6/6 [==============================] - 0s 8ms/step - loss: 0.0474 - accuracy: 0.9883\n",
            "Epoch 116/150\n",
            "6/6 [==============================] - 0s 5ms/step - loss: 0.0395 - accuracy: 0.9902\n",
            "Epoch 117/150\n",
            "6/6 [==============================] - 0s 5ms/step - loss: 0.0365 - accuracy: 0.9902\n",
            "Epoch 118/150\n",
            "6/6 [==============================] - 0s 6ms/step - loss: 0.0403 - accuracy: 0.9883\n",
            "Epoch 119/150\n",
            "6/6 [==============================] - 0s 5ms/step - loss: 0.0378 - accuracy: 0.9863\n",
            "Epoch 120/150\n",
            "6/6 [==============================] - 0s 7ms/step - loss: 0.0401 - accuracy: 0.9883\n",
            "Epoch 121/150\n",
            "6/6 [==============================] - 0s 5ms/step - loss: 0.0442 - accuracy: 0.9863\n",
            "Epoch 122/150\n",
            "6/6 [==============================] - 0s 4ms/step - loss: 0.0386 - accuracy: 0.9883\n",
            "Epoch 123/150\n",
            "6/6 [==============================] - 0s 6ms/step - loss: 0.0409 - accuracy: 0.9883\n",
            "Epoch 124/150\n",
            "6/6 [==============================] - 0s 7ms/step - loss: 0.0322 - accuracy: 0.9922\n",
            "Epoch 125/150\n",
            "6/6 [==============================] - 0s 4ms/step - loss: 0.0494 - accuracy: 0.9844\n",
            "Epoch 126/150\n",
            "6/6 [==============================] - 0s 5ms/step - loss: 0.0395 - accuracy: 0.9883\n",
            "Epoch 127/150\n",
            "6/6 [==============================] - 0s 8ms/step - loss: 0.0325 - accuracy: 0.9883\n",
            "Epoch 128/150\n",
            "6/6 [==============================] - 0s 6ms/step - loss: 0.0346 - accuracy: 0.9922\n",
            "Epoch 129/150\n",
            "6/6 [==============================] - 0s 6ms/step - loss: 0.0399 - accuracy: 0.9902\n",
            "Epoch 130/150\n",
            "6/6 [==============================] - 0s 6ms/step - loss: 0.0326 - accuracy: 0.9922\n",
            "Epoch 131/150\n",
            "6/6 [==============================] - 0s 7ms/step - loss: 0.0377 - accuracy: 0.9883\n",
            "Epoch 132/150\n",
            "6/6 [==============================] - 0s 6ms/step - loss: 0.0336 - accuracy: 0.9883\n",
            "Epoch 133/150\n",
            "6/6 [==============================] - 0s 6ms/step - loss: 0.0357 - accuracy: 0.9902\n",
            "Epoch 134/150\n",
            "6/6 [==============================] - 0s 6ms/step - loss: 0.0356 - accuracy: 0.9922\n",
            "Epoch 135/150\n",
            "6/6 [==============================] - 0s 8ms/step - loss: 0.0398 - accuracy: 0.9863\n",
            "Epoch 136/150\n",
            "6/6 [==============================] - 0s 7ms/step - loss: 0.0350 - accuracy: 0.9883\n",
            "Epoch 137/150\n",
            "6/6 [==============================] - 0s 5ms/step - loss: 0.0362 - accuracy: 0.9922\n",
            "Epoch 138/150\n",
            "6/6 [==============================] - 0s 7ms/step - loss: 0.0362 - accuracy: 0.9883\n",
            "Epoch 139/150\n",
            "6/6 [==============================] - 0s 5ms/step - loss: 0.0337 - accuracy: 0.9922\n",
            "Epoch 140/150\n",
            "6/6 [==============================] - 0s 9ms/step - loss: 0.0303 - accuracy: 0.9922\n",
            "Epoch 141/150\n",
            "6/6 [==============================] - 0s 6ms/step - loss: 0.0401 - accuracy: 0.9824\n",
            "Epoch 142/150\n",
            "6/6 [==============================] - 0s 5ms/step - loss: 0.0361 - accuracy: 0.9922\n",
            "Epoch 143/150\n",
            "6/6 [==============================] - 0s 4ms/step - loss: 0.0349 - accuracy: 0.9883\n",
            "Epoch 144/150\n",
            "6/6 [==============================] - 0s 8ms/step - loss: 0.0342 - accuracy: 0.9922\n",
            "Epoch 145/150\n",
            "6/6 [==============================] - 0s 5ms/step - loss: 0.0310 - accuracy: 0.9902\n",
            "Epoch 146/150\n",
            "6/6 [==============================] - 0s 6ms/step - loss: 0.0338 - accuracy: 0.9883\n",
            "Epoch 147/150\n",
            "6/6 [==============================] - 0s 5ms/step - loss: 0.0249 - accuracy: 0.9922\n",
            "Epoch 148/150\n",
            "6/6 [==============================] - 0s 5ms/step - loss: 0.0294 - accuracy: 0.9902\n",
            "Epoch 149/150\n",
            "6/6 [==============================] - 0s 6ms/step - loss: 0.0277 - accuracy: 0.9902\n",
            "Epoch 150/150\n",
            "6/6 [==============================] - 0s 6ms/step - loss: 0.0366 - accuracy: 0.9883\n"
          ]
        },
        {
          "output_type": "execute_result",
          "data": {
            "text/plain": [
              "<keras.callbacks.History at 0x7f1d30272210>"
            ]
          },
          "metadata": {},
          "execution_count": 14
        }
      ]
    },
    {
      "cell_type": "markdown",
      "source": [
        "# Model Evaluation with Test Data"
      ],
      "metadata": {
        "id": "AhoeV4sguopk"
      }
    },
    {
      "cell_type": "code",
      "source": [
        "model.evaluate(X_test, y_test)"
      ],
      "metadata": {
        "colab": {
          "base_uri": "https://localhost:8080/"
        },
        "id": "TACDLjq6uE1y",
        "outputId": "d5cf61a6-24eb-4ae0-f43f-82e3071f53c2"
      },
      "execution_count": 15,
      "outputs": [
        {
          "output_type": "stream",
          "name": "stdout",
          "text": [
            "2/2 [==============================] - 0s 10ms/step - loss: 0.0049 - accuracy: 1.0000\n"
          ]
        },
        {
          "output_type": "execute_result",
          "data": {
            "text/plain": [
              "[0.00485524907708168, 1.0]"
            ]
          },
          "metadata": {},
          "execution_count": 15
        }
      ]
    },
    {
      "cell_type": "code",
      "source": [
        "from sklearn.metrics import confusion_matrix"
      ],
      "metadata": {
        "id": "TuyzC0tKuL-j"
      },
      "execution_count": 16,
      "outputs": []
    },
    {
      "cell_type": "code",
      "source": [
        "y_pred = model.predict(X_test) > 0.5"
      ],
      "metadata": {
        "id": "-uaQoImpt3Ld"
      },
      "execution_count": 17,
      "outputs": []
    },
    {
      "cell_type": "code",
      "source": [
        "cm = confusion_matrix(y_test, y_pred)"
      ],
      "metadata": {
        "id": "yGYorPCRuBrh"
      },
      "execution_count": 18,
      "outputs": []
    },
    {
      "cell_type": "code",
      "source": [
        "sns.heatmap(cm, annot=True)"
      ],
      "metadata": {
        "colab": {
          "base_uri": "https://localhost:8080/",
          "height": 286
        },
        "id": "gw2rDZ0JuDs0",
        "outputId": "40183791-ed30-4a6a-e647-5175fd8bc31a"
      },
      "execution_count": 19,
      "outputs": [
        {
          "output_type": "execute_result",
          "data": {
            "text/plain": [
              "<matplotlib.axes._subplots.AxesSubplot at 0x7f1cc2219bd0>"
            ]
          },
          "metadata": {},
          "execution_count": 19
        },
        {
          "output_type": "display_data",
          "data": {
            "text/plain": [
              "<Figure size 432x288 with 2 Axes>"
            ],
            "image/png": "[encoded data removed]"
          },
          "metadata": {
            "needs_background": "light"
          }
        }
      ]
    },
    {
      "cell_type": "code",
      "source": [
        ""
      ],
      "metadata": {
        "id": "WPwsJJBHuaTu"
      },
      "execution_count": 19,
      "outputs": []
    }
  ]
}